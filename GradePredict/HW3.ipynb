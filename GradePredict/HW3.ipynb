{
  "nbformat": 4,
  "nbformat_minor": 0,
  "metadata": {
    "colab": {
      "name": "HW3.ipynb",
      "provenance": [],
      "history_visible": true
    },
    "kernelspec": {
      "name": "python3",
      "display_name": "Python 3"
    },
    "language_info": {
      "name": "python"
    }
  },
  "cells": [
    {
      "cell_type": "code",
      "execution_count": 1,
      "metadata": {
        "id": "fR5PU6symIrA"
      },
      "outputs": [],
      "source": [
        "import numpy as np\n",
        "import pandas as pd"
      ]
    },
    {
      "cell_type": "code",
      "source": [
        "from google.colab import drive\n",
        "drive.mount('/content/drive')"
      ],
      "metadata": {
        "colab": {
          "base_uri": "https://localhost:8080/"
        },
        "id": "fPDfTr5nmMSu",
        "outputId": "c62bafa0-e9ab-4e83-caec-954cd3d3e124"
      },
      "execution_count": 2,
      "outputs": [
        {
          "output_type": "stream",
          "name": "stdout",
          "text": [
            "Drive already mounted at /content/drive; to attempt to forcibly remount, call drive.mount(\"/content/drive\", force_remount=True).\n"
          ]
        }
      ]
    },
    {
      "cell_type": "code",
      "source": [
        "path_to_description = '/content/drive/MyDrive/Colab Notebooks/wine_description.txt'\n",
        "path_to_train = '/content/drive/MyDrive/Colab Notebooks/wine_training.csv'\n",
        "path_to_test = '/content/drive/MyDrive/Colab Notebooks/wine_test.csv'\n",
        "path_to_new_batch = '/content/drive/MyDrive/Colab Notebooks/wine_new_batch.csv'\n",
        "\n",
        "d_train = pd.read_csv(path_to_train, names=[\"fixed acidity\", \"volatile acidity\", \"citric acid\", 'residual sugar', \"chlorides\", \"free sulfur dioxide\",\n",
        "   \"total sulfur dioxide\", \"density\", \"pH\", \"sulphates\", \"alcohol\", \"quality\"])\n",
        "d_test = pd.read_csv(path_to_test, names=[\"fixed acidity\", \"volatile acidity\", \"citric acid\", 'residual sugar', \"chlorides\", \"free sulfur dioxide\",\n",
        "   \"total sulfur dioxide\", \"density\", \"pH\", \"sulphates\", \"alcohol\", \"quality\"])\n",
        "d_new = pd.read_csv(path_to_new_batch, names=[\"fixed acidity\", \"volatile acidity\", \"citric acid\", 'residual sugar', \"chlorides\", \"free sulfur dioxide\",\n",
        "   \"total sulfur dioxide\", \"density\", \"pH\", \"sulphates\", \"alcohol\"])"
      ],
      "metadata": {
        "id": "7Z0qu7MimO6v"
      },
      "execution_count": 3,
      "outputs": []
    },
    {
      "cell_type": "code",
      "source": [
        "train = np.array(d_train)\n",
        "test = np.array(d_test)\n",
        "X_new = np.array(d_new)\n",
        "X_train = train[:,0:11]\n",
        "Y_train = train[:,11]\n",
        "print(X_train.shape)\n",
        "X_test = test[:,0:11]\n",
        "Y_test = test[:,11]\n",
        "print(X_test.shape)"
      ],
      "metadata": {
        "colab": {
          "base_uri": "https://localhost:8080/"
        },
        "id": "BZQo1nUYnRK9",
        "outputId": "d861c703-6be1-46f6-9aed-302dab9776be"
      },
      "execution_count": 4,
      "outputs": [
        {
          "output_type": "stream",
          "name": "stdout",
          "text": [
            "(1115, 11)\n",
            "(479, 11)\n"
          ]
        }
      ]
    },
    {
      "cell_type": "code",
      "source": [
        "import sklearn as skl\n",
        "import sklearn.kernel_ridge\n",
        "import numpy.matlib\n",
        "\n",
        "X_train_N = X_train.shape[0]\n",
        "X_train_mean = np.mean(X_train, axis=0)\n",
        "X_train_std = np.std(X_train, axis=0)\n",
        "X_train_normal = (X_train - np.matlib.repmat(X_train_mean, X_train_N, 1))/np.matlib.repmat(X_train_std, X_train_N, 1)\n",
        "\n",
        "Y_train_N = Y_train.shape[0]\n",
        "Y_train_mean = np.mean(Y_train, axis=0)\n",
        "Y_train_std = np.std(Y_train, axis=0)\n",
        "Y_train_normal = (Y_train - Y_train_mean)/Y_train_std\n",
        "\n",
        "X_test_N = X_test.shape[0]\n",
        "X_test_normal = (X_test - np.matlib.repmat(X_train_mean, X_test_N, 1))/np.matlib.repmat(X_train_std, X_test_N, 1)\n",
        "Y_test_normal = (Y_test - Y_train_mean)/Y_train_std\n",
        "\n",
        "X_new_N = X_new.shape[0]\n",
        "X_new_normal = (X_new - np.matlib.repmat(X_train_mean, X_new_N, 1))/np.matlib.repmat(X_train_std, X_new_N, 1)"
      ],
      "metadata": {
        "id": "wi2qehV_sU_q"
      },
      "execution_count": 5,
      "outputs": []
    },
    {
      "cell_type": "code",
      "source": [
        "from sklearn.linear_model import LinearRegression\n",
        "\n",
        "LR = LinearRegression().fit(X_train_normal, Y_train_normal)\n",
        "LR_train_normal = LR.predict(X_train_normal)\n",
        "LR_test_normal = LR.predict(X_test_normal)"
      ],
      "metadata": {
        "id": "uJuyIYZEy9tq"
      },
      "execution_count": 6,
      "outputs": []
    },
    {
      "cell_type": "code",
      "source": [
        "import sklearn.model_selection\n",
        "\n",
        "sgm = np.linspace(1,3,10)\n",
        "lmbd = np.linspace(-3,-1,10)\n",
        "scores = np.zeros((10,10))\n",
        "RBF_CV = skl.kernel_ridge.KernelRidge(kernel='rbf')\n",
        "\n",
        "for i in range(10):\n",
        "  RBF_CV.gamma = 1/(2*(2**sgm[i])**2)\n",
        "  for j in range(10):\n",
        "    RBF_CV.alpha = (2**lmbd[j])\n",
        "    this_score = skl.model_selection.cross_val_score(RBF_CV,X_train_normal,Y_train_normal,scoring='neg_mean_squared_error',cv=10,n_jobs=-1)\n",
        "    scores[i,j] = (np.mean(this_score))\n",
        "ij_max = np.array(np.where(scores==scores.max()),dtype=int).flatten()\n",
        "log_2_sg_rbf = sgm[ij_max[0]]\n",
        "log_2_lmbd_rbf = lmbd[ij_max[1]]\n",
        "print('log_2_sg_rbf:', sgm[ij_max[0]], 'log_2_lmbd_rbf: ', lmbd[ij_max[1]])\n"
      ],
      "metadata": {
        "colab": {
          "base_uri": "https://localhost:8080/"
        },
        "id": "yMn2KwEhcMyS",
        "outputId": "c6ebbf73-6d01-4e3e-a655-1d7b596e0001"
      },
      "execution_count": 29,
      "outputs": [
        {
          "output_type": "stream",
          "name": "stdout",
          "text": [
            "log_2_sg_rbf: 1.8888888888888888 log_2_lmbd_rbf:  -2.3333333333333335\n"
          ]
        }
      ]
    },
    {
      "cell_type": "code",
      "source": [
        " # test\n",
        "import sklearn.model_selection\n",
        "\n",
        "sgm = np.linspace(1,3,10)\n",
        "lmbd = np.linspace(-3,-1,10)\n",
        "scores = np.zeros((10,10))\n",
        "RBF_CV = skl.kernel_ridge.KernelRidge(kernel='rbf')\n",
        "\n",
        "for i in range(10):\n",
        "  RBF_CV.gamma = 1/(2*(2**sgm[i])**2)\n",
        "  for j in range(10):\n",
        "    RBF_CV.alpha = (2**lmbd[j])\n",
        "    this_score = skl.model_selection.cross_val_score(RBF_CV,X_train_normal,Y_train_normal,scoring='neg_mean_squared_error',cv=10,n_jobs=-1)\n",
        "    scores[i,j] = (np.mean(this_score))\n",
        "ij_max = np.array(np.where(scores==scores.max()),dtype=int).flatten()\n",
        "log_2_sg_rbf = sgm[ij_max[0]]\n",
        "log_2_lmbd_rbf = lmbd[ij_max[1]]\n",
        "print('log_2_sg_rbf:', sgm[ij_max[0]], 'log_2_lmbd_rbf: ', lmbd[ij_max[1]])"
      ],
      "metadata": {
        "colab": {
          "base_uri": "https://localhost:8080/"
        },
        "id": "onrIBtVK76Vt",
        "outputId": "1560fd0e-6ace-4f41-d1ed-91101400d3ee"
      },
      "execution_count": 10,
      "outputs": [
        {
          "output_type": "stream",
          "name": "stdout",
          "text": [
            "log_2_sg_rbf: 1.8888888888888888 log_2_lmbd_rbf:  -2.3333333333333335\n"
          ]
        }
      ]
    },
    {
      "cell_type": "code",
      "source": [
        "sigma_rbf = 2**log_2_sg_rbf\n",
        "lambda_rbf = 2**log_2_lmbd_rbf\n",
        "print(sigma_rbf, lambda_rbf)"
      ],
      "metadata": {
        "colab": {
          "base_uri": "https://localhost:8080/"
        },
        "id": "8qiqawUZ2emU",
        "outputId": "846f92fc-07e5-47a3-be63-cf6b3fe0a28f"
      },
      "execution_count": 11,
      "outputs": [
        {
          "output_type": "stream",
          "name": "stdout",
          "text": [
            "3.7034988491491614 0.19842513149602492\n"
          ]
        }
      ]
    },
    {
      "cell_type": "code",
      "source": [
        "alpha_rbf = 2**log_2_lmbd_rbf\n",
        "gamma_rbf = 1/(2*sigma_rbf**2)\n",
        "print(alpha_rbf,gamma_rbf)"
      ],
      "metadata": {
        "colab": {
          "base_uri": "https://localhost:8080/"
        },
        "id": "opMVHWP83FFZ",
        "outputId": "1fdf1eaf-89da-4be7-a0f8-75ab1aa0cb9b"
      },
      "execution_count": 15,
      "outputs": [
        {
          "output_type": "stream",
          "name": "stdout",
          "text": [
            "0.19842513149602492 0.03645403248675365\n"
          ]
        }
      ]
    },
    {
      "cell_type": "code",
      "source": [
        "sgm = np.linspace(1,3,10)\n",
        "lmbd = np.linspace(-3,-1,10)\n",
        "scores = np.zeros((10,10))\n",
        "LAP_CV = skl.kernel_ridge.KernelRidge(kernel='laplacian')\n",
        "\n",
        "for i in range(10):\n",
        "  LAP_CV.gamma = 1/(2**sgm[i])\n",
        "  for j in range(10):\n",
        "    LAP_CV.alpha = (2**lmbd[j])\n",
        "    this_score = skl.model_selection.cross_val_score(LAP_CV,X_train_normal,Y_train_normal,scoring='neg_mean_squared_error',cv=10,n_jobs=-1)\n",
        "    scores[i,j] = (np.mean(this_score))\n",
        "ij_max = np.array(np.where(scores==scores.max()),dtype=int).flatten()\n",
        "log_2_sg_lap = sgm[ij_max[0]]\n",
        "log_2_lmbd_lap = lmbd[ij_max[1]]\n",
        "print('log_2_sg_lap:', sgm[ij_max[0]], 'log_2_lmbd_lap: ', lmbd[ij_max[1]])"
      ],
      "metadata": {
        "colab": {
          "base_uri": "https://localhost:8080/"
        },
        "id": "Id1dl1q7xzVq",
        "outputId": "97d34401-9afb-4d40-8667-5e140f0c49d5"
      },
      "execution_count": 43,
      "outputs": [
        {
          "output_type": "stream",
          "name": "stdout",
          "text": [
            "log_2_sg_lap: 2.111111111111111 log_2_lmbd_lap:  -2.111111111111111\n"
          ]
        }
      ]
    },
    {
      "cell_type": "code",
      "source": [
        "# test\n",
        "sgm = np.linspace(1,3,10)\n",
        "lmbd = np.linspace(-3,-1,10)\n",
        "scores = np.zeros((10,10))\n",
        "LAP_CV = skl.kernel_ridge.KernelRidge(kernel='laplacian')\n",
        "\n",
        "for i in range(10):\n",
        "  LAP_CV.gamma = 1/(2**sgm[i])\n",
        "  for j in range(10):\n",
        "    LAP_CV.alpha = (2**lmbd[j])\n",
        "    this_score = skl.model_selection.cross_val_score(LAP_CV,X_train_normal,Y_train_normal,scoring='neg_mean_squared_error',cv=10,n_jobs=-1)\n",
        "    scores[i,j] = (np.mean(this_score))\n",
        "ij_max = np.array(np.where(scores==scores.max()),dtype=int).flatten()\n",
        "log_2_sg_lap = sgm[ij_max[0]]\n",
        "log_2_lmbd_lap = lmbd[ij_max[1]]\n",
        "print('log_2_sg_lap:', sgm[ij_max[0]], 'log_2_lmbd_lap: ', lmbd[ij_max[1]])"
      ],
      "metadata": {
        "colab": {
          "base_uri": "https://localhost:8080/"
        },
        "id": "dMTP7fig8ECT",
        "outputId": "db2f9714-df3f-4d11-fc4b-ead5f13cd762"
      },
      "execution_count": 13,
      "outputs": [
        {
          "output_type": "stream",
          "name": "stdout",
          "text": [
            "log_2_sg_lap: 2.111111111111111 log_2_lmbd_lap:  -2.111111111111111\n"
          ]
        }
      ]
    },
    {
      "cell_type": "code",
      "source": [
        "sigma_lap = 2**log_2_sg_lap\n",
        "lambda_lap = 2**log_2_lmbd_lap\n",
        "print(sigma_lap, lambda_lap)"
      ],
      "metadata": {
        "colab": {
          "base_uri": "https://localhost:8080/"
        },
        "id": "vcqzmNeY59kL",
        "outputId": "7da2bc05-7a53-4f71-8be7-c48ce8104f76"
      },
      "execution_count": 14,
      "outputs": [
        {
          "output_type": "stream",
          "name": "stdout",
          "text": [
            "4.320238955569224 0.2314686780718226\n"
          ]
        }
      ]
    },
    {
      "cell_type": "code",
      "source": [
        "alpha_lap = 2**log_2_lmbd_lap\n",
        "gamma_lap = 1/(sigma_lap)\n",
        "print(alpha_lap,gamma_lap)"
      ],
      "metadata": {
        "colab": {
          "base_uri": "https://localhost:8080/"
        },
        "id": "TIvqjX-j6Eso",
        "outputId": "90e1ab69-1aad-42c3-8929-ee75e306bb3e"
      },
      "execution_count": 16,
      "outputs": [
        {
          "output_type": "stream",
          "name": "stdout",
          "text": [
            "0.2314686780718226 0.23146867807182261\n"
          ]
        }
      ]
    },
    {
      "cell_type": "code",
      "source": [
        "from sklearn.metrics import mean_squared_error\n",
        "\n",
        "LR_train_mse = mean_squared_error(Y_train_normal, LR_train_normal)\n",
        "LR_test_mse = mean_squared_error(Y_test_normal, LR_test_normal)\n",
        "print(LR_train_mse, LR_test_mse)"
      ],
      "metadata": {
        "colab": {
          "base_uri": "https://localhost:8080/"
        },
        "id": "tmWWBkfNblEK",
        "outputId": "9844a47f-0522-4164-86b0-e953eb68e0ae"
      },
      "execution_count": 17,
      "outputs": [
        {
          "output_type": "stream",
          "name": "stdout",
          "text": [
            "0.6278484956554882 0.7471696905187208\n"
          ]
        }
      ]
    },
    {
      "cell_type": "code",
      "source": [
        "RBF = skl.kernel_ridge.KernelRidge(kernel='rbf',alpha=alpha_rbf,gamma=gamma_rbf)\n",
        "RBF.fit(X_train_normal, Y_train_normal)\n",
        "RBF_train_normal = RBF.predict(X_train_normal)\n",
        "RBF_test_normal = RBF.predict(X_test_normal)\n",
        "\n",
        "RBF_train_mse = mean_squared_error(Y_train_normal, RBF_train_normal)\n",
        "RBF_test_mse = mean_squared_error(Y_test_normal, RBF_test_normal)\n",
        "print(RBF_train_mse, RBF_test_mse)"
      ],
      "metadata": {
        "colab": {
          "base_uri": "https://localhost:8080/"
        },
        "id": "4_J77E4v587j",
        "outputId": "20a772d3-ffcb-4bec-e13d-f2f50b7bafd9"
      },
      "execution_count": 18,
      "outputs": [
        {
          "output_type": "stream",
          "name": "stdout",
          "text": [
            "0.4548788888959536 0.6786661476640042\n"
          ]
        }
      ]
    },
    {
      "cell_type": "code",
      "source": [
        "LAP = skl.kernel_ridge.KernelRidge(kernel='laplacian',alpha=alpha_lap,gamma=gamma_lap)\n",
        "LAP.fit(X_train_normal, Y_train_normal)\n",
        "LAP_train_normal = LAP.predict(X_train_normal)\n",
        "LAP_test_normal = LAP.predict(X_test_normal)\n",
        "\n",
        "LAP_train_mse = mean_squared_error(Y_train_normal, LAP_train_normal)\n",
        "LAP_test_mse = mean_squared_error(Y_test_normal, LAP_test_normal)\n",
        "print(LAP_train_mse, LAP_test_mse)"
      ],
      "metadata": {
        "colab": {
          "base_uri": "https://localhost:8080/"
        },
        "id": "HLCZPiKg9IdN",
        "outputId": "2379514e-d452-4724-8d0a-1045f36b483d"
      },
      "execution_count": 20,
      "outputs": [
        {
          "output_type": "stream",
          "name": "stdout",
          "text": [
            "0.057890626651083514 0.6077484857863533\n"
          ]
        }
      ]
    },
    {
      "cell_type": "code",
      "source": [
        "LR_new_pred = LR.predict(X_new_normal)\n",
        "LR_new = LR_new_pred*Y_train_std + Y_train_mean\n",
        "print(LR_new)\n",
        "print(np.around(LR_new))"
      ],
      "metadata": {
        "colab": {
          "base_uri": "https://localhost:8080/"
        },
        "id": "-hSCIVeLc3Qv",
        "outputId": "aa61093c-6a80-4358-81a6-238c9e65d04c"
      },
      "execution_count": 21,
      "outputs": [
        {
          "output_type": "stream",
          "name": "stdout",
          "text": [
            "[6.00469789 5.28767761 5.56363072 6.067022   5.94248207]\n",
            "[6. 5. 6. 6. 6.]\n"
          ]
        }
      ]
    },
    {
      "cell_type": "code",
      "source": [
        "RBF_new_pred = RBF.predict(X_new_normal)\n",
        "RBF_new = RBF_new_pred*Y_train_std + Y_train_mean\n",
        "print(RBF_new)\n",
        "print(np.around(RBF_new))"
      ],
      "metadata": {
        "colab": {
          "base_uri": "https://localhost:8080/"
        },
        "id": "ugh6ss6i-o8M",
        "outputId": "c79ae236-dd73-46b5-8536-11629eb68c8c"
      },
      "execution_count": 22,
      "outputs": [
        {
          "output_type": "stream",
          "name": "stdout",
          "text": [
            "[5.99233072 5.44373019 5.36230769 6.14112495 6.06319855]\n",
            "[6. 5. 5. 6. 6.]\n"
          ]
        }
      ]
    },
    {
      "cell_type": "code",
      "source": [
        "LAP_new_pred = LAP.predict(X_new_normal)\n",
        "LAP_new = LAP_new_pred*Y_train_std + Y_train_mean\n",
        "print(LAP_new)\n",
        "print(np.around(LAP_new))"
      ],
      "metadata": {
        "colab": {
          "base_uri": "https://localhost:8080/"
        },
        "id": "WyNkmfDN-xqX",
        "outputId": "8188a8f5-c8a6-40e8-ccef-4b1e9c18b568"
      },
      "execution_count": 23,
      "outputs": [
        {
          "output_type": "stream",
          "name": "stdout",
          "text": [
            "[6.0483042  5.47399545 5.62433419 5.97466709 6.00854608]\n",
            "[6. 5. 6. 6. 6.]\n"
          ]
        }
      ]
    },
    {
      "cell_type": "code",
      "source": [
        ""
      ],
      "metadata": {
        "id": "n-lfeoWmECzC"
      },
      "execution_count": null,
      "outputs": []
    }
  ]
}