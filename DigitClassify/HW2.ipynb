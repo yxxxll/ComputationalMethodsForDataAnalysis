{
  "nbformat": 4,
  "nbformat_minor": 0,
  "metadata": {
    "colab": {
      "name": "HW2.ipynb",
      "provenance": []
    },
    "kernelspec": {
      "name": "python3",
      "display_name": "Python 3"
    },
    "language_info": {
      "name": "python"
    }
  },
  "cells": [
    {
      "cell_type": "code",
      "execution_count": 1,
      "metadata": {
        "id": "8okfxtNSgxbM"
      },
      "outputs": [],
      "source": [
        "import numpy as np\n",
        "import matplotlib.pyplot as plt"
      ]
    },
    {
      "cell_type": "code",
      "source": [
        "from sklearn.decomposition import PCA\n",
        "from sklearn.linear_model import RidgeCV\n",
        "from sklearn.metrics import mean_squared_error"
      ],
      "metadata": {
        "id": "Im5jpXNDZ16X"
      },
      "execution_count": 2,
      "outputs": []
    },
    {
      "cell_type": "code",
      "source": [
        "from google.colab import drive\n",
        "drive.mount('/content/drive')"
      ],
      "metadata": {
        "id": "04jAugfhg2WZ",
        "colab": {
          "base_uri": "https://localhost:8080/"
        },
        "outputId": "8ce7a18f-a866-4591-822e-724bdff4bb67"
      },
      "execution_count": 3,
      "outputs": [
        {
          "output_type": "stream",
          "name": "stdout",
          "text": [
            "Drive already mounted at /content/drive; to attempt to forcibly remount, call drive.mount(\"/content/drive\", force_remount=True).\n"
          ]
        }
      ]
    },
    {
      "cell_type": "code",
      "source": [
        "path_to_train = '/content/drive/MyDrive/Colab Notebooks/MNIST_training_set.npy'\n",
        "path_to_test = '/content/drive/MyDrive/Colab Notebooks/MNIST_test_set.npy'\n",
        "\n",
        "d_train = np.load(path_to_train, allow_pickle=True)\n",
        "d_test = np.load(path_to_test, allow_pickle=True)"
      ],
      "metadata": {
        "id": "Dy9DndbWhTGi"
      },
      "execution_count": 4,
      "outputs": []
    },
    {
      "cell_type": "code",
      "source": [
        "X_train = d_train.item().get('features')\n",
        "Y_train = d_train.item().get('labels')\n",
        "\n",
        "print(X_train.shape)\n",
        "print(Y_train.shape)\n",
        "\n",
        "X_test = d_test.item().get('features')\n",
        "Y_test = d_test.item().get('labels')\n",
        "\n",
        "print(X_test.shape)\n",
        "print(Y_test.shape)"
      ],
      "metadata": {
        "id": "mEWxnGuLhZJf",
        "colab": {
          "base_uri": "https://localhost:8080/"
        },
        "outputId": "9a855c19-d44d-4ca2-909d-477be91daec9"
      },
      "execution_count": 5,
      "outputs": [
        {
          "output_type": "stream",
          "name": "stdout",
          "text": [
            "(2000, 256)\n",
            "(2000,)\n",
            "(500, 256)\n",
            "(500,)\n"
          ]
        }
      ]
    },
    {
      "cell_type": "code",
      "source": [
        "pca = PCA(n_components=256)\n",
        "pca.fit(X_train)"
      ],
      "metadata": {
        "colab": {
          "base_uri": "https://localhost:8080/"
        },
        "id": "5uNEPv5WZyU9",
        "outputId": "45b7d130-7010-4772-afef-3fc33281fb49"
      },
      "execution_count": 6,
      "outputs": [
        {
          "output_type": "execute_result",
          "data": {
            "text/plain": [
              "PCA(n_components=256)"
            ]
          },
          "metadata": {},
          "execution_count": 6
        }
      ]
    },
    {
      "cell_type": "code",
      "source": [
        "def plot_digits(XX, N, title):\n",
        "    \"\"\"Small helper function to plot N**2 digits.\"\"\"\n",
        "    fig, ax = plt.subplots(N, N, figsize=(8, 8))\n",
        "    for i in range(N):\n",
        "      for j in range(N):\n",
        "        ax[i,j].imshow(XX[(N)*i+j,:].reshape((16, 16)), cmap=\"Greys\")\n",
        "        ax[i,j].axis(\"off\")\n",
        "    fig.suptitle(title, fontsize=24)\n",
        "\n",
        "plot_digits(pca.components_, 4, \"First 16 PCA Modes\" )\n",
        "\n",
        "print(pca.components_.shape)"
      ],
      "metadata": {
        "colab": {
          "base_uri": "https://localhost:8080/",
          "height": 541
        },
        "id": "S1TodZ0fXA8f",
        "outputId": "fa99fea1-000e-459b-fc7e-41fae875e5ee"
      },
      "execution_count": 7,
      "outputs": [
        {
          "output_type": "stream",
          "name": "stdout",
          "text": [
            "(256, 256)\n"
          ]
        },
        {
          "output_type": "display_data",
          "data": {
            "image/png": "[encoded data removed]",
            "text/plain": [
              "<Figure size 576x576 with 16 Axes>"
            ]
          },
          "metadata": {
            "needs_background": "light"
          }
        }
      ]
    },
    {
      "cell_type": "code",
      "source": [
        "plt.plot(pca.singular_values_)\n",
        "plt.xlabel('index $j$')\n",
        "plt.ylabel('$\\sigma_j$')\n"
      ],
      "metadata": {
        "colab": {
          "base_uri": "https://localhost:8080/",
          "height": 305
        },
        "id": "2Se2knlYSH5I",
        "outputId": "825b301d-7599-4d1d-9f3b-6a37070d799b"
      },
      "execution_count": 8,
      "outputs": [
        {
          "output_type": "execute_result",
          "data": {
            "text/plain": [
              "Text(0, 0.5, '$\\\\sigma_j$')"
            ]
          },
          "metadata": {},
          "execution_count": 8
        },
        {
          "output_type": "display_data",
          "data": {
            "image/png": "[encoded data removed]",
            "text/plain": [
              "<Figure size 432x288 with 1 Axes>"
            ]
          },
          "metadata": {
            "needs_background": "light"
          }
        }
      ]
    },
    {
      "cell_type": "code",
      "source": [
        "import numpy as np\n",
        "\n",
        "pca = PCA()\n",
        "pca.fit(X_train)\n",
        "print(np.sqrt(sum(pca.singular_values_**2)))"
      ],
      "metadata": {
        "colab": {
          "base_uri": "https://localhost:8080/"
        },
        "id": "4B8AgEmJPnL2",
        "outputId": "0613c1f1-c23c-456e-ac14-de94b218f1d9"
      },
      "execution_count": 9,
      "outputs": [
        {
          "output_type": "stream",
          "name": "stdout",
          "text": [
            "190.27893628308198\n"
          ]
        }
      ]
    },
    {
      "cell_type": "code",
      "source": [
        "pca = PCA(0.6**2)\n",
        "pca.fit(X_train)\n",
        "print(pca.components_.shape)\n",
        "\n",
        "pca = PCA(0.8**2)\n",
        "pca.fit(X_train)\n",
        "print(pca.components_.shape)\n",
        "\n",
        "pca = PCA(0.9**2)\n",
        "pca.fit(X_train)\n",
        "print(pca.components_.shape)"
      ],
      "metadata": {
        "colab": {
          "base_uri": "https://localhost:8080/"
        },
        "id": "cC-9n0sDXBiW",
        "outputId": "50dfabb1-8fa7-4a5d-af65-adb161d31210"
      },
      "execution_count": 10,
      "outputs": [
        {
          "output_type": "stream",
          "name": "stdout",
          "text": [
            "(3, 256)\n",
            "(7, 256)\n",
            "(14, 256)\n"
          ]
        }
      ]
    },
    {
      "cell_type": "code",
      "source": [
        "def get_XY(X,Y,m,n):\n",
        "  indexm = np.where(Y == m)\n",
        "  X_mn = X[indexm]\n",
        "  Y_mn = Y[indexm]\n",
        "  indexn = np.where(Y == n)\n",
        "  X_mn = np.vstack((X_mn,X[indexn]))\n",
        "  Y_mn = np.hstack((Y_mn,Y[indexn]))\n",
        "  return X_mn,Y_mn\n"
      ],
      "metadata": {
        "id": "ASMkunoD8N6v"
      },
      "execution_count": 11,
      "outputs": []
    },
    {
      "cell_type": "code",
      "source": [
        "def classifier(m,n):\n",
        "  X_train_mn = get_XY(X_train,Y_train,m,n)[0]\n",
        "  Y_train_mn = get_XY(X_train,Y_train,m,n)[1]\n",
        "\n",
        "  pca = PCA(n_components=16)\n",
        "  pca.fit(X_train)\n",
        "  A_train = pca.transform(X_train_mn)\n",
        "\n",
        "  b_train = Y_train_mn\n",
        "  indexm = np.where(Y_train_mn == m)\n",
        "  b_train[indexm] = -1\n",
        "  indexn = np.where(Y_train_mn == n)\n",
        "  b_train[indexn] = 1\n",
        "\n",
        "  reg = RidgeCV()\n",
        "  reg.fit(A_train,b_train)\n",
        "  predictor = reg.predict(A_train)\n",
        "\n",
        "  MSE_train_mn = mean_squared_error(b_train, predictor)\n",
        "  print(\"MSE_train(\",m,\",\",n,\"): \",MSE_train_mn)\n",
        "\n",
        "  X_test_mn = get_XY(X_test,Y_test,m,n)[0]\n",
        "  Y_test_mn = get_XY(X_test,Y_test,m,n)[1]\n",
        "\n",
        "  A_test = pca.transform(X_test_mn)\n",
        "\n",
        "  b_test = Y_test_mn\n",
        "  indexm = np.where(Y_test_mn == m)\n",
        "  b_test[indexm] = -1\n",
        "  indexn = np.where(Y_test_mn == n)\n",
        "  b_test[indexn] = 1\n",
        "\n",
        "  predictor = reg.predict(A_test)\n",
        "  MSE_test_mn = mean_squared_error(b_test, predictor)\n",
        "  print(\"MSE_test (\",m,\",\",n,\"): \",MSE_test_mn)\n"
      ],
      "metadata": {
        "id": "-cUx-WjmD54g"
      },
      "execution_count": 12,
      "outputs": []
    },
    {
      "cell_type": "code",
      "source": [
        "classifier(1,8)\n",
        "classifier(3,8)\n",
        "classifier(2,7)"
      ],
      "metadata": {
        "colab": {
          "base_uri": "https://localhost:8080/"
        },
        "id": "49K2xRu_Fels",
        "outputId": "4d02c5ee-afe9-4971-b869-85f9d85aa417"
      },
      "execution_count": 13,
      "outputs": [
        {
          "output_type": "stream",
          "name": "stdout",
          "text": [
            "MSE_train( 1 , 8 ):  0.07545046193479041\n",
            "MSE_test ( 1 , 8 ):  0.0825830416996403\n",
            "MSE_train( 3 , 8 ):  0.18121824942014883\n",
            "MSE_test ( 3 , 8 ):  0.2591148603960329\n",
            "MSE_train( 2 , 7 ):  0.09284760866898845\n",
            "MSE_test ( 2 , 7 ):  0.13143223499625878\n"
          ]
        }
      ]
    }
  ]
}