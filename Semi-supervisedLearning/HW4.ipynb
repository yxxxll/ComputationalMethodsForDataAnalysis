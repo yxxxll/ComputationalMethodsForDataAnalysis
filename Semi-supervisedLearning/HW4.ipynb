{
  "nbformat": 4,
  "nbformat_minor": 0,
  "metadata": {
    "colab": {
      "name": "HW4.ipynb",
      "provenance": []
    },
    "kernelspec": {
      "name": "python3",
      "display_name": "Python 3"
    },
    "language_info": {
      "name": "python"
    }
  },
  "cells": [
    {
      "cell_type": "code",
      "execution_count": 1,
      "metadata": {
        "id": "g53KvaEUejx2"
      },
      "outputs": [],
      "source": [
        "import numpy as np\n",
        "import matplotlib.pyplot as plt"
      ]
    },
    {
      "cell_type": "code",
      "source": [
        "from google.colab import drive\n",
        "drive.mount('/content/drive')"
      ],
      "metadata": {
        "colab": {
          "base_uri": "https://localhost:8080/"
        },
        "id": "0ho_7zgMeoEZ",
        "outputId": "61ed5968-f784-4c8d-cc84-3c2f371d4478"
      },
      "execution_count": 2,
      "outputs": [
        {
          "output_type": "stream",
          "name": "stdout",
          "text": [
            "Mounted at /content/drive\n"
          ]
        }
      ]
    },
    {
      "cell_type": "code",
      "source": [
        "path_to_description = '/content/drive/MyDrive/Colab Notebooks/house-votes-84.names'\n",
        "path_to_data = '/content/drive/MyDrive/Colab Notebooks/house-votes-84.data'"
      ],
      "metadata": {
        "id": "X732XPTTeqEw"
      },
      "execution_count": 3,
      "outputs": []
    },
    {
      "cell_type": "code",
      "source": [
        "votes = (np.loadtxt(path_to_data,delimiter=',',dtype=object,unpack=True)).T\n",
        "print(votes.shape)\n",
        "print(votes)"
      ],
      "metadata": {
        "colab": {
          "base_uri": "https://localhost:8080/"
        },
        "id": "2jIxYL13evtv",
        "outputId": "017daf45-0798-4fff-9018-aa91b0fd3d2b"
      },
      "execution_count": 4,
      "outputs": [
        {
          "output_type": "stream",
          "name": "stdout",
          "text": [
            "(435, 17)\n",
            "[['republican' 'n' 'y' ... 'y' 'n' 'y']\n",
            " ['republican' 'n' 'y' ... 'y' 'n' '?']\n",
            " ['democrat' '?' 'y' ... 'y' 'n' 'n']\n",
            " ...\n",
            " ['republican' 'n' '?' ... 'y' 'n' 'y']\n",
            " ['republican' 'n' 'n' ... 'y' 'n' 'y']\n",
            " ['republican' 'n' 'y' ... 'y' '?' 'n']]\n"
          ]
        }
      ]
    },
    {
      "cell_type": "code",
      "source": [
        "for i in range(435):\n",
        "  temp = votes[i]\n",
        "  for j in range(17):\n",
        "    if temp[j] == 'republican' or temp[j] == 'y':\n",
        "      votes[i,j] = 1\n",
        "    elif temp[j] == 'democrat' or temp[j] == 'n':\n",
        "      votes[i,j] = -1\n",
        "    elif temp[j] == '?':\n",
        "      votes[i,j] = 0\n",
        "\n",
        "X = votes[:,1:17]\n",
        "y = votes[:,0]\n",
        "print(X.shape)\n",
        "print(y.shape)"
      ],
      "metadata": {
        "colab": {
          "base_uri": "https://localhost:8080/"
        },
        "id": "PcWoiyDtexbQ",
        "outputId": "2cc8a163-092b-4e0a-8cba-26611047450d"
      },
      "execution_count": 6,
      "outputs": [
        {
          "output_type": "stream",
          "name": "stdout",
          "text": [
            "(435, 16)\n",
            "(435,)\n"
          ]
        }
      ]
    },
    {
      "cell_type": "code",
      "source": [
        "def eta(tt,rr):\n",
        "  val = np.exp(-(tt**2)/(2*rr**2))\n",
        "  return val.astype(float)"
      ],
      "metadata": {
        "id": "ufpnpcAsezMS"
      },
      "execution_count": 7,
      "outputs": []
    },
    {
      "cell_type": "code",
      "source": [
        "import scipy.spatial\n",
        "dist = scipy.spatial.distance_matrix(X,X,p=2)\n",
        "r = np.arange(0.1,4,0.01)\n",
        "acc = []\n",
        "for i in r:\n",
        "  W = eta(dist,i)\n",
        "  d = np.sum(W,axis=1)\n",
        "  D = np.diag(d)\n",
        "  L = D-W\n",
        "  ll, VV = np.linalg.eigh(L)\n",
        "  idx = ll.argsort()\n",
        "  l = ll[idx]\n",
        "  V = VV[:,idx]\n",
        "  classifier = np.sign(V[:,1])\n",
        "  mismem1 = np.sum(np.not_equal(classifier,y))\n",
        "  mismem2 = np.sum(np.not_equal(classifier,-y))\n",
        "  acc_temp = 1-min(mismem1,mismem2)/435\n",
        "  acc.append(acc_temp)\n"
      ],
      "metadata": {
        "id": "iQcBpan8e2nM"
      },
      "execution_count": 10,
      "outputs": []
    },
    {
      "cell_type": "code",
      "source": [
        "idx = np.argmax(acc)\n",
        "print(idx)\n",
        "sigma = r[idx]\n",
        "accuracy = acc[idx]\n",
        "print(sigma,accuracy)"
      ],
      "metadata": {
        "colab": {
          "base_uri": "https://localhost:8080/"
        },
        "id": "erlzzxaRe4KU",
        "outputId": "6796a023-cc78-462d-bb03-7a5f58e861c8"
      },
      "execution_count": 11,
      "outputs": [
        {
          "output_type": "stream",
          "name": "stdout",
          "text": [
            "106\n",
            "1.1599999999999995 0.8804597701149426\n"
          ]
        }
      ]
    },
    {
      "cell_type": "code",
      "source": [
        "plt.figure(figsize=(8,8))\n",
        "plt.plot(r,acc,'.')\n",
        "plt.xticks(fontsize=14)\n",
        "plt.yticks(fontsize=14)\n",
        "plt.xlabel('$\\sigma$',fontsize=16)\n",
        "plt.ylabel('Accuracy',fontsize=16)\n",
        "plt.plot(sigma,accuracy,marker='*',mec='r')\n",
        "plt.text(sigma,accuracy,'$\\sigma^*$',verticalalignment='bottom',horizontalalignment='right',fontsize=16)"
      ],
      "metadata": {
        "colab": {
          "base_uri": "https://localhost:8080/",
          "height": 524
        },
        "id": "mPt1qZhbfZ7P",
        "outputId": "72849b49-35cf-4883-c7eb-f41be7534083"
      },
      "execution_count": 12,
      "outputs": [
        {
          "output_type": "execute_result",
          "data": {
            "text/plain": [
              "Text(1.1599999999999995, 0.8804597701149426, '$\\\\sigma^*$')"
            ]
          },
          "metadata": {},
          "execution_count": 12
        },
        {
          "output_type": "display_data",
          "data": {
            "text/plain": [
              "<Figure size 576x576 with 1 Axes>"
            ],
            "image/png": "[encoded data removed]"
          },
          "metadata": {
            "needs_background": "light"
          }
        }
      ]
    },
    {
      "cell_type": "code",
      "source": [
        "dist = scipy.spatial.distance_matrix(X,X,p=2)\n",
        "r = sigma\n",
        "W = eta(dist,r)\n",
        "d = np.sum(W,axis=1)\n",
        "D = np.diag(d)\n",
        "L = D-W\n",
        "ll, VV = np.linalg.eigh(L)\n",
        "idx = ll.argsort()\n",
        "l = ll[idx]\n",
        "V = VV[:,idx]"
      ],
      "metadata": {
        "id": "XzLlZvG2fdD_"
      },
      "execution_count": 25,
      "outputs": []
    },
    {
      "cell_type": "code",
      "source": [
        "from sklearn.linear_model import Ridge"
      ],
      "metadata": {
        "id": "YKKEEER_ffc3"
      },
      "execution_count": 19,
      "outputs": []
    },
    {
      "cell_type": "code",
      "source": [
        "M = [2,3,4,5,6]\n",
        "J = [5,10,20,40]\n",
        "SSLacc = np.zeros((5,4))\n",
        "for i in range(5):\n",
        "  for j in range(4):\n",
        "    F = V[:,0:M[i]]\n",
        "    A = V[0:J[j],0:M[i]]\n",
        "    b = y[0:J[j]]\n",
        "    SSLRidge = Ridge(alpha = 1e-8, fit_intercept=False)\n",
        "    SSLRidge.fit(A,b)\n",
        "    c_hat = SSLRidge.coef_\n",
        "    y_hat = np.sign(np.dot(F,c_hat))\n",
        "    mismem1 = np.sum(np.not_equal(y_hat,y))\n",
        "    mismem2 = np.sum(np.not_equal(y_hat,-y))\n",
        "    acc_temp = 1-min(mismem1,mismem2)/435\n",
        "    SSLacc[i,j] = acc_temp\n",
        "print(SSLacc)\n",
        "idx = np.argmax(SSLacc)"
      ],
      "metadata": {
        "colab": {
          "base_uri": "https://localhost:8080/"
        },
        "id": "--wDq71RfijJ",
        "outputId": "84c57372-373a-4b08-e2fc-34a8b8ccb139"
      },
      "execution_count": 26,
      "outputs": [
        {
          "output_type": "stream",
          "name": "stdout",
          "text": [
            "[[0.88965517 0.88735632 0.88275862 0.88045977]\n",
            " [0.88965517 0.82068966 0.82298851 0.83908046]\n",
            " [0.83908046 0.85747126 0.86436782 0.87586207]\n",
            " [0.86666667 0.75402299 0.84137931 0.87816092]\n",
            " [0.89195402 0.72873563 0.87586207 0.86436782]]\n"
          ]
        }
      ]
    },
    {
      "cell_type": "code",
      "source": [
        ""
      ],
      "metadata": {
        "id": "tSpwmGIifjxr"
      },
      "execution_count": null,
      "outputs": []
    }
  ]
}